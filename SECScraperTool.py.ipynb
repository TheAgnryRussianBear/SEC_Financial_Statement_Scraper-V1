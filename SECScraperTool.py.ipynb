{
 "cells": [
  {
   "cell_type": "code",
   "execution_count": 1,
   "metadata": {},
   "outputs": [],
   "source": [
    "#!/usr/bin/env "
   ]
  },
  {
   "cell_type": "markdown",
   "metadata": {},
   "source": [
    "# User Inputs"
   ]
  },
  {
   "cell_type": "code",
   "execution_count": 2,
   "metadata": {},
   "outputs": [],
   "source": [
    "#this is where all the files will be downloaded after the program is run\n",
    "directory_path = '/home/user/Documents/python_webscraper/'\n",
    "\n",
    "#Financial year \n",
    "year = 2020 \n",
    "\n",
    "#Company name as it appears in the .tsv files\n",
    "selectedcompany = 'WD 40 CO'\n",
    "\n",
    "#when this is set to true the tsv documents pulled from from the SEC will be deleted after they are used.\n",
    "purge_file_directory = False"
   ]
  },
  {
   "cell_type": "markdown",
   "metadata": {},
   "source": [
    "# Modules"
   ]
  },
  {
   "cell_type": "code",
   "execution_count": 3,
   "metadata": {},
   "outputs": [],
   "source": [
    "import edgar\n",
    "import pandas as pd\n",
    "import os"
   ]
  },
  {
   "cell_type": "markdown",
   "metadata": {},
   "source": [
    "# Lists"
   ]
  },
  {
   "cell_type": "code",
   "execution_count": 4,
   "metadata": {},
   "outputs": [],
   "source": [
    "tsv_file_names = []\n",
    "#This is where we will store the balance sheets so that they do not get wiped out by the for loop\n",
    "balance_sheets = []"
   ]
  },
  {
   "cell_type": "markdown",
   "metadata": {},
   "source": [
    "# Definitions"
   ]
  },
  {
   "cell_type": "code",
   "execution_count": 5,
   "metadata": {},
   "outputs": [],
   "source": [
    "#this function creates a list of file names that were created and that will be used to create the spreadsheets.\n",
    "def tsv_name_formatter():\n",
    "    for file in tsv_files:\n",
    "        split_file = file.split('.')\n",
    "        tsv_file_names.append(split_file[0])\n",
    "        print('{} was created'.format(file))"
   ]
  },
  {
   "cell_type": "code",
   "execution_count": 6,
   "metadata": {},
   "outputs": [],
   "source": [
    "#This will go through the documents and find the balance sheet.\n",
    "def balance_sheet():\n",
    "    for item in df:\n",
    "        BS = (item[0].astype(str).str.contains('Retained') | item[0].astype(str).str.contains('Total Assets'))\n",
    "        if BS.any():\n",
    "            Balance_Sheet = item\n",
    "            \n",
    "            #Beginning stages of trimming down all the information that is irrelevant.\n",
    "            Balance_Sheet = Balance_Sheet.iloc[10:57,[0,2,5]]\n",
    "\n",
    "            #Creating a header and attaching it to the financial statement.\n",
    "            header = Balance_Sheet.iloc[0]\n",
    "            Balance_Sheet = Balance_Sheet[1:]\n",
    "            Balance_Sheet.columns = header\n",
    "\n",
    "            #Renaming the headers first cell 'item' since it usually begins as nan or na.\n",
    "            Balance_Sheet.columns.values[0] = 'Item'\n",
    "            Balance_Sheet = Balance_Sheet[Balance_Sheet['Item'].notna()]\n",
    "\n",
    "            #The following lines complete the formatting of the financial statement so that it can be made into a proper dataframe.\n",
    "            Balance_Sheet[Balance_Sheet.columns[1:]] = Balance_Sheet[Balance_Sheet.columns[1:]].astype(str)\n",
    "            Balance_Sheet[Balance_Sheet.columns[1]] = Balance_Sheet[Balance_Sheet.columns[1]].map(lambda x: x.replace('-','0'))\n",
    "            Balance_Sheet[Balance_Sheet.columns[2]] = Balance_Sheet[Balance_Sheet.columns[2]].map(lambda x: x.replace('-','0'))\n",
    "\n",
    "            Balance_Sheet[Balance_Sheet.columns[1]] = Balance_Sheet[Balance_Sheet.columns[1]].map(lambda x: x.replace('(','-'))\n",
    "            Balance_Sheet[Balance_Sheet.columns[2]] = Balance_Sheet[Balance_Sheet.columns[2]].map(lambda x: x.replace('(','-'))\n",
    "\n",
    "            Balance_Sheet[Balance_Sheet.columns[1]] = Balance_Sheet[Balance_Sheet.columns[1]].map(lambda x: x.replace(')',''))\n",
    "            Balance_Sheet[Balance_Sheet.columns[2]] = Balance_Sheet[Balance_Sheet.columns[2]].map(lambda x: x.replace(')',''))\n",
    "\n",
    "            Balance_Sheet[Balance_Sheet.columns[1]] = Balance_Sheet[Balance_Sheet.columns[1]].map(lambda x: x.replace(',',''))\n",
    "            Balance_Sheet[Balance_Sheet.columns[2]] = Balance_Sheet[Balance_Sheet.columns[2]].map(lambda x: x.replace(',',''))\n",
    "\n",
    "            Balance_Sheet[Balance_Sheet.columns[1]] = Balance_Sheet[Balance_Sheet.columns[1]].map(lambda x: x.replace('nan','0'))\n",
    "            Balance_Sheet[Balance_Sheet.columns[2]] = Balance_Sheet[Balance_Sheet.columns[2]].map(lambda x: x.replace('nan','0'))\n",
    "\n",
    "\n",
    "            Balance_Sheet[Balance_Sheet.columns[1:]] = Balance_Sheet[Balance_Sheet.columns[1:]].astype(float)\n",
    "            \n",
    "            balance_sheets.append(Balance_Sheet)"
   ]
  },
  {
   "cell_type": "code",
   "execution_count": 11,
   "metadata": {},
   "outputs": [],
   "source": [
    "def cash_flow_statment():\n",
    "    for item in df:\n",
    "        CFS = (item[0].astype(str).str.contains('CONDENSED CONSOLIDATED STATEMENTS OF CASH FLOWS'))\n",
    "        if CFS.any():\n",
    "            Cash_Flow_Statement = item     \n",
    "    \n",
    "            Cash_Flow_Statement = Cash_Flow_Statement.iloc[6:48,[0,2,5]]\n",
    "            \n",
    "            header = Cash_Flow_Statement.iloc[0]\n",
    "            Cash_Flow_Statement = Cash_Flow_Statement[1:]\n",
    "            \n",
    "            Cash_Flow_Statement.columns = header\n",
    "            \n",
    "            \n",
    "            Cash_Flow_Statement.columns.values[0] = 'Item'\n",
    "            Cash_Flow_Statement = Cash_Flow_Statement[Cash_Flow_Statement['Item'].notna()]\n",
    "            \n",
    "            Cash_Flow_Statement[Cash_Flow_Statement.columns[1:]] = Cash_Flow_Statement[Cash_Flow_Statement.columns[1:]].astype(str)\n",
    "            Cash_Flow_Statement[Cash_Flow_Statement.columns[1]] = Cash_Flow_Statement[Cash_Flow_Statement.columns[1]].map(lambda x: x.replace('-','0'))\n",
    "            Cash_Flow_Statement[Cash_Flow_Statement.columns[2]] = Cash_Flow_Statement[Cash_Flow_Statement.columns[2]].map(lambda x: x.replace('-','0'))\n",
    "            \n",
    "            Cash_Flow_Statement[Cash_Flow_Statement.columns[1]] = Cash_Flow_Statement[Cash_Flow_Statement.columns[1]].map(lambda x: x.replace('(','-'))\n",
    "            Cash_Flow_Statement[Cash_Flow_Statement.columns[2]] = Cash_Flow_Statement[Cash_Flow_Statement.columns[2]].map(lambda x: x.replace('(','-'))\n",
    "            \n",
    "            Cash_Flow_Statement[Cash_Flow_Statement.columns[1]] = Cash_Flow_Statement[Cash_Flow_Statement.columns[1]].map(lambda x: x.replace(')',''))\n",
    "            Cash_Flow_Statement[Cash_Flow_Statement.columns[2]] = Cash_Flow_Statement[Cash_Flow_Statement.columns[2]].map(lambda x: x.replace(')',''))\n",
    "            \n",
    "            Cash_Flow_Statement[Cash_Flow_Statement.columns[1]] = Cash_Flow_Statement[Cash_Flow_Statement.columns[1]].map(lambda x: x.replace(',',''))\n",
    "            Cash_Flow_Statement[Cash_Flow_Statement.columns[2]] = Cash_Flow_Statement[Cash_Flow_Statement.columns[2]].map(lambda x: x.replace(',',''))\n",
    "            \n",
    "            Cash_Flow_Statement[Cash_Flow_Statement.columns[1]] = Cash_Flow_Statement[Cash_Flow_Statement.columns[1]].map(lambda x: x.replace('nan','0'))\n",
    "            Cash_Flow_Statement[Cash_Flow_Statement.columns[2]] = Cash_Flow_Statement[Cash_Flow_Statement.columns[2]].map(lambda x: x.replace('nan','0'))\n",
    "            \n",
    "            \n",
    "            Cash_Flow_Statement[Cash_Flow_Statement.columns[1:]] = Cash_Flow_Statement[Cash_Flow_Statement.columns[1:]].astype(float)\n",
    "            \n",
    "            cash_flow_statements.append(Cash_Flow_Statement)\n",
    "        "
   ]
  },
  {
   "cell_type": "code",
   "execution_count": 7,
   "metadata": {},
   "outputs": [],
   "source": [
    "#This will clean up the SEC tsv files after running the script and extracting the relevant information.\n",
    "def purge_tsv_files():\n",
    "    for file in tsv_files:\n",
    "        os.remove(directory_path + file)\n",
    "        print('File {} deleted'.format(file))"
   ]
  },
  {
   "cell_type": "markdown",
   "metadata": {},
   "source": [
    "# Program"
   ]
  },
  {
   "cell_type": "code",
   "execution_count": 8,
   "metadata": {},
   "outputs": [
    {
     "name": "stdout",
     "output_type": "stream",
     "text": [
      "Files downloaded successfully\n",
      "2020-QTR1.tsv was created\n",
      "2020-QTR2.tsv was created\n",
      "2020-QTR3.tsv was created\n"
     ]
    }
   ],
   "source": [
    "#Downloads the list of all company files including the location of those files for us to look through.\n",
    "if os.path.exists(directory_path + str(year) + '-' + 'QTR1.tsv') == True:\n",
    "    tsv_name_formatter()\n",
    "    tsv_files = os.listdir(directory_path)\n",
    "else:\n",
    "    edgar.download_index(directory_path, year,\n",
    "                         skip_all_present_except_last=False)\n",
    "    print('Files downloaded successfully')\n",
    "    tsv_files = os.listdir(directory_path)\n",
    "    tsv_name_formatter()\n"
   ]
  },
  {
   "cell_type": "code",
   "execution_count": 12,
   "metadata": {},
   "outputs": [
    {
     "ename": "ValueError",
     "evalue": "Columns must be same length as key",
     "output_type": "error",
     "traceback": [
      "\u001b[0;31m---------------------------------------------------------------------------\u001b[0m",
      "\u001b[0;31mValueError\u001b[0m                                Traceback (most recent call last)",
      "\u001b[0;32m<ipython-input-12-76b7487efbe1>\u001b[0m in \u001b[0;36m<module>\u001b[0;34m\u001b[0m\n\u001b[1;32m     44\u001b[0m     \u001b[0mbalance_sheet\u001b[0m\u001b[0;34m(\u001b[0m\u001b[0;34m)\u001b[0m\u001b[0;34m\u001b[0m\u001b[0;34m\u001b[0m\u001b[0m\n\u001b[1;32m     45\u001b[0m \u001b[0;34m\u001b[0m\u001b[0m\n\u001b[0;32m---> 46\u001b[0;31m     \u001b[0mcash_flow_statment\u001b[0m\u001b[0;34m(\u001b[0m\u001b[0;34m)\u001b[0m\u001b[0;34m\u001b[0m\u001b[0;34m\u001b[0m\u001b[0m\n\u001b[0m",
      "\u001b[0;32m<ipython-input-11-3dbfa12c72c4>\u001b[0m in \u001b[0;36mcash_flow_statment\u001b[0;34m()\u001b[0m\n\u001b[1;32m     16\u001b[0m             \u001b[0mCash_Flow_Statement\u001b[0m \u001b[0;34m=\u001b[0m \u001b[0mCash_Flow_Statement\u001b[0m\u001b[0;34m[\u001b[0m\u001b[0mCash_Flow_Statement\u001b[0m\u001b[0;34m[\u001b[0m\u001b[0;34m'Item'\u001b[0m\u001b[0;34m]\u001b[0m\u001b[0;34m.\u001b[0m\u001b[0mnotna\u001b[0m\u001b[0;34m(\u001b[0m\u001b[0;34m)\u001b[0m\u001b[0;34m]\u001b[0m\u001b[0;34m\u001b[0m\u001b[0;34m\u001b[0m\u001b[0m\n\u001b[1;32m     17\u001b[0m \u001b[0;34m\u001b[0m\u001b[0m\n\u001b[0;32m---> 18\u001b[0;31m             \u001b[0mCash_Flow_Statement\u001b[0m\u001b[0;34m[\u001b[0m\u001b[0mCash_Flow_Statement\u001b[0m\u001b[0;34m.\u001b[0m\u001b[0mcolumns\u001b[0m\u001b[0;34m[\u001b[0m\u001b[0;36m1\u001b[0m\u001b[0;34m:\u001b[0m\u001b[0;34m]\u001b[0m\u001b[0;34m]\u001b[0m \u001b[0;34m=\u001b[0m \u001b[0mCash_Flow_Statement\u001b[0m\u001b[0;34m[\u001b[0m\u001b[0mCash_Flow_Statement\u001b[0m\u001b[0;34m.\u001b[0m\u001b[0mcolumns\u001b[0m\u001b[0;34m[\u001b[0m\u001b[0;36m1\u001b[0m\u001b[0;34m:\u001b[0m\u001b[0;34m]\u001b[0m\u001b[0;34m]\u001b[0m\u001b[0;34m.\u001b[0m\u001b[0mastype\u001b[0m\u001b[0;34m(\u001b[0m\u001b[0mstr\u001b[0m\u001b[0;34m)\u001b[0m\u001b[0;34m\u001b[0m\u001b[0;34m\u001b[0m\u001b[0m\n\u001b[0m\u001b[1;32m     19\u001b[0m             \u001b[0mCash_Flow_Statement\u001b[0m\u001b[0;34m[\u001b[0m\u001b[0mCash_Flow_Statement\u001b[0m\u001b[0;34m.\u001b[0m\u001b[0mcolumns\u001b[0m\u001b[0;34m[\u001b[0m\u001b[0;36m1\u001b[0m\u001b[0;34m]\u001b[0m\u001b[0;34m]\u001b[0m \u001b[0;34m=\u001b[0m \u001b[0mCash_Flow_Statement\u001b[0m\u001b[0;34m[\u001b[0m\u001b[0mCash_Flow_Statement\u001b[0m\u001b[0;34m.\u001b[0m\u001b[0mcolumns\u001b[0m\u001b[0;34m[\u001b[0m\u001b[0;36m1\u001b[0m\u001b[0;34m]\u001b[0m\u001b[0;34m]\u001b[0m\u001b[0;34m.\u001b[0m\u001b[0mmap\u001b[0m\u001b[0;34m(\u001b[0m\u001b[0;32mlambda\u001b[0m \u001b[0mx\u001b[0m\u001b[0;34m:\u001b[0m \u001b[0mx\u001b[0m\u001b[0;34m.\u001b[0m\u001b[0mreplace\u001b[0m\u001b[0;34m(\u001b[0m\u001b[0;34m'-'\u001b[0m\u001b[0;34m,\u001b[0m\u001b[0;34m'0'\u001b[0m\u001b[0;34m)\u001b[0m\u001b[0;34m)\u001b[0m\u001b[0;34m\u001b[0m\u001b[0;34m\u001b[0m\u001b[0m\n\u001b[1;32m     20\u001b[0m             \u001b[0mCash_Flow_Statement\u001b[0m\u001b[0;34m[\u001b[0m\u001b[0mCash_Flow_Statement\u001b[0m\u001b[0;34m.\u001b[0m\u001b[0mcolumns\u001b[0m\u001b[0;34m[\u001b[0m\u001b[0;36m2\u001b[0m\u001b[0;34m]\u001b[0m\u001b[0;34m]\u001b[0m \u001b[0;34m=\u001b[0m \u001b[0mCash_Flow_Statement\u001b[0m\u001b[0;34m[\u001b[0m\u001b[0mCash_Flow_Statement\u001b[0m\u001b[0;34m.\u001b[0m\u001b[0mcolumns\u001b[0m\u001b[0;34m[\u001b[0m\u001b[0;36m2\u001b[0m\u001b[0;34m]\u001b[0m\u001b[0;34m]\u001b[0m\u001b[0;34m.\u001b[0m\u001b[0mmap\u001b[0m\u001b[0;34m(\u001b[0m\u001b[0;32mlambda\u001b[0m \u001b[0mx\u001b[0m\u001b[0;34m:\u001b[0m \u001b[0mx\u001b[0m\u001b[0;34m.\u001b[0m\u001b[0mreplace\u001b[0m\u001b[0;34m(\u001b[0m\u001b[0;34m'-'\u001b[0m\u001b[0;34m,\u001b[0m\u001b[0;34m'0'\u001b[0m\u001b[0;34m)\u001b[0m\u001b[0;34m)\u001b[0m\u001b[0;34m\u001b[0m\u001b[0;34m\u001b[0m\u001b[0m\n",
      "\u001b[0;32m/usr/lib64/python3.8/site-packages/pandas/core/frame.py\u001b[0m in \u001b[0;36m__setitem__\u001b[0;34m(self, key, value)\u001b[0m\n\u001b[1;32m   3482\u001b[0m             \u001b[0mself\u001b[0m\u001b[0;34m.\u001b[0m\u001b[0m_setitem_frame\u001b[0m\u001b[0;34m(\u001b[0m\u001b[0mkey\u001b[0m\u001b[0;34m,\u001b[0m \u001b[0mvalue\u001b[0m\u001b[0;34m)\u001b[0m\u001b[0;34m\u001b[0m\u001b[0;34m\u001b[0m\u001b[0m\n\u001b[1;32m   3483\u001b[0m         \u001b[0;32melif\u001b[0m \u001b[0misinstance\u001b[0m\u001b[0;34m(\u001b[0m\u001b[0mkey\u001b[0m\u001b[0;34m,\u001b[0m \u001b[0;34m(\u001b[0m\u001b[0mSeries\u001b[0m\u001b[0;34m,\u001b[0m \u001b[0mnp\u001b[0m\u001b[0;34m.\u001b[0m\u001b[0mndarray\u001b[0m\u001b[0;34m,\u001b[0m \u001b[0mlist\u001b[0m\u001b[0;34m,\u001b[0m \u001b[0mIndex\u001b[0m\u001b[0;34m)\u001b[0m\u001b[0;34m)\u001b[0m\u001b[0;34m:\u001b[0m\u001b[0;34m\u001b[0m\u001b[0;34m\u001b[0m\u001b[0m\n\u001b[0;32m-> 3484\u001b[0;31m             \u001b[0mself\u001b[0m\u001b[0;34m.\u001b[0m\u001b[0m_setitem_array\u001b[0m\u001b[0;34m(\u001b[0m\u001b[0mkey\u001b[0m\u001b[0;34m,\u001b[0m \u001b[0mvalue\u001b[0m\u001b[0;34m)\u001b[0m\u001b[0;34m\u001b[0m\u001b[0;34m\u001b[0m\u001b[0m\n\u001b[0m\u001b[1;32m   3485\u001b[0m         \u001b[0;32melse\u001b[0m\u001b[0;34m:\u001b[0m\u001b[0;34m\u001b[0m\u001b[0;34m\u001b[0m\u001b[0m\n\u001b[1;32m   3486\u001b[0m             \u001b[0;31m# set column\u001b[0m\u001b[0;34m\u001b[0m\u001b[0;34m\u001b[0m\u001b[0;34m\u001b[0m\u001b[0m\n",
      "\u001b[0;32m/usr/lib64/python3.8/site-packages/pandas/core/frame.py\u001b[0m in \u001b[0;36m_setitem_array\u001b[0;34m(self, key, value)\u001b[0m\n\u001b[1;32m   3505\u001b[0m             \u001b[0;32mif\u001b[0m \u001b[0misinstance\u001b[0m\u001b[0;34m(\u001b[0m\u001b[0mvalue\u001b[0m\u001b[0;34m,\u001b[0m \u001b[0mDataFrame\u001b[0m\u001b[0;34m)\u001b[0m\u001b[0;34m:\u001b[0m\u001b[0;34m\u001b[0m\u001b[0;34m\u001b[0m\u001b[0m\n\u001b[1;32m   3506\u001b[0m                 \u001b[0;32mif\u001b[0m \u001b[0mlen\u001b[0m\u001b[0;34m(\u001b[0m\u001b[0mvalue\u001b[0m\u001b[0;34m.\u001b[0m\u001b[0mcolumns\u001b[0m\u001b[0;34m)\u001b[0m \u001b[0;34m!=\u001b[0m \u001b[0mlen\u001b[0m\u001b[0;34m(\u001b[0m\u001b[0mkey\u001b[0m\u001b[0;34m)\u001b[0m\u001b[0;34m:\u001b[0m\u001b[0;34m\u001b[0m\u001b[0;34m\u001b[0m\u001b[0m\n\u001b[0;32m-> 3507\u001b[0;31m                     \u001b[0;32mraise\u001b[0m \u001b[0mValueError\u001b[0m\u001b[0;34m(\u001b[0m\u001b[0;34m\"Columns must be same length as key\"\u001b[0m\u001b[0;34m)\u001b[0m\u001b[0;34m\u001b[0m\u001b[0;34m\u001b[0m\u001b[0m\n\u001b[0m\u001b[1;32m   3508\u001b[0m                 \u001b[0;32mfor\u001b[0m \u001b[0mk1\u001b[0m\u001b[0;34m,\u001b[0m \u001b[0mk2\u001b[0m \u001b[0;32min\u001b[0m \u001b[0mzip\u001b[0m\u001b[0;34m(\u001b[0m\u001b[0mkey\u001b[0m\u001b[0;34m,\u001b[0m \u001b[0mvalue\u001b[0m\u001b[0;34m.\u001b[0m\u001b[0mcolumns\u001b[0m\u001b[0;34m)\u001b[0m\u001b[0;34m:\u001b[0m\u001b[0;34m\u001b[0m\u001b[0;34m\u001b[0m\u001b[0m\n\u001b[1;32m   3509\u001b[0m                     \u001b[0mself\u001b[0m\u001b[0;34m[\u001b[0m\u001b[0mk1\u001b[0m\u001b[0;34m]\u001b[0m \u001b[0;34m=\u001b[0m \u001b[0mvalue\u001b[0m\u001b[0;34m[\u001b[0m\u001b[0mk2\u001b[0m\u001b[0;34m]\u001b[0m\u001b[0;34m\u001b[0m\u001b[0;34m\u001b[0m\u001b[0m\n",
      "\u001b[0;31mValueError\u001b[0m: Columns must be same length as key"
     ]
    }
   ],
   "source": [
    "#This for loop will take all the tsv files that were downloaded for the year and compile the different \n",
    "#financial reports\n",
    "for file in tsv_file_names:\n",
    "    csv = pd.read_csv('/home/user/Documents/python_webscraper/' + file + '.tsv', \n",
    "                  sep='\\t',  lineterminator='\\n', names=None) \n",
    "\n",
    "    csv.columns.values[0] = 'Item'\n",
    "    \n",
    "    #This for loop ensures that the proper documents are found regardless of whether we are looking at a 10-Q or 10-K\n",
    "    if file is not (str(year) + '-QTR4'):\n",
    "        selectedreport = '10-Q'\n",
    "    else:\n",
    "        selectedreport = '10-K'\n",
    "        \n",
    "    companyreport = csv[(csv['Item'].str.contains(selectedcompany)) & \n",
    "                        (csv['Item'].str.contains(selectedreport))]\n",
    "\n",
    "    Filing = companyreport['Item'].str.split('|')\n",
    "    Filing = Filing.to_list()\n",
    "\n",
    "    for item in Filing[0]:\n",
    "\n",
    "        if 'html' in item:\n",
    "            report = item\n",
    "\n",
    "    url = 'https://www.sec.gov/Archives/' + report\n",
    "    #https://www.sec.gov/ix?doc=/Archives/edgar/data/1652044/000165204419000032/goog10-qq32019.htm\n",
    "\n",
    "    df = pd.read_html(url)\n",
    "    document_index = df[0]\n",
    "    document_index = document_index.dropna()\n",
    "\n",
    "    document_name = document_index[document_index['Description'].str.contains(selectedreport)]\n",
    "    document_name = document_name['Document'].str.split(' ')\n",
    "    document_name = document_name[0][0]\n",
    "\n",
    "    report_formatted = report.replace('-','').replace('index.html','')\n",
    "    url = 'https://www.sec.gov/Archives/' + report_formatted + '/' + document_name\n",
    "\n",
    "\n",
    "    df = pd.read_html(url)\n",
    "    \n",
    "    #invoking the balance_sheet definition to compile the report\n",
    "    balance_sheet()\n",
    "    \n",
    "    cash_flow_statment()"
   ]
  },
  {
   "cell_type": "markdown",
   "metadata": {},
   "source": [
    "This section is where the tsv files will be used to compile the different reports. Below is the Balance Sheet as the first one."
   ]
  },
  {
   "cell_type": "code",
   "execution_count": 10,
   "metadata": {
    "scrolled": true
   },
   "outputs": [
    {
     "name": "stdout",
     "output_type": "stream",
     "text": [
      "File 2020-QTR1.tsv deleted\n",
      "File 2020-QTR2.tsv deleted\n",
      "File 2020-QTR3.tsv deleted\n"
     ]
    }
   ],
   "source": [
    "#This is used at the end of the script to clean up any residual junk files that will not be needed. It will delete \n",
    "#all the tsv files that were downloaded at the beginning. \n",
    "if purge_file_directory is True:\n",
    "    purge_tsv_files()\n"
   ]
  },
  {
   "cell_type": "code",
   "execution_count": null,
   "metadata": {},
   "outputs": [],
   "source": []
  },
  {
   "cell_type": "code",
   "execution_count": null,
   "metadata": {},
   "outputs": [],
   "source": []
  }
 ],
 "metadata": {
  "kernelspec": {
   "display_name": "Python 3",
   "language": "python",
   "name": "python3"
  },
  "language_info": {
   "codemirror_mode": {
    "name": "ipython",
    "version": 3
   },
   "file_extension": ".py",
   "mimetype": "text/x-python",
   "name": "python",
   "nbconvert_exporter": "python",
   "pygments_lexer": "ipython3",
   "version": "3.8.5"
  }
 },
 "nbformat": 4,
 "nbformat_minor": 4
}
